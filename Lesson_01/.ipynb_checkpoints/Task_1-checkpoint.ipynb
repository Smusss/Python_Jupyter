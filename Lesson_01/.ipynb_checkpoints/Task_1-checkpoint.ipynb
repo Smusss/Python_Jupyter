{
 "cells": [
  {
   "cell_type": "markdown",
   "id": "71ad762f",
   "metadata": {},
   "source": [
    "# Задание 0"
   ]
  },
  {
   "cell_type": "markdown",
   "id": "949a469b",
   "metadata": {},
   "source": [
    "а вот и MD"
   ]
  },
  {
   "cell_type": "markdown",
   "id": "19477f63",
   "metadata": {},
   "source": [
    "# Задание 1"
   ]
  },
  {
   "cell_type": "markdown",
   "id": "d950a693",
   "metadata": {},
   "source": [
    "#### Задание 1.1"
   ]
  },
  {
   "cell_type": "code",
   "execution_count": 5,
   "id": "164bd6a5",
   "metadata": {},
   "outputs": [
    {
     "data": {
      "text/plain": [
       "{'One': 1, 'Two': 2, 'Three': 3, 'Four': 4, 'Five': 5, 'Six': 6}"
      ]
     },
     "execution_count": 5,
     "metadata": {},
     "output_type": "execute_result"
    }
   ],
   "source": [
    "dict1 = {'One': 1, 'Two': 2, 'Three': 3}\n",
    "dict2 = {'Four': 4, 'Five': 5, 'Six': 6}\n",
    "dict1.update(dict2)\n",
    "dict1"
   ]
  },
  {
   "cell_type": "markdown",
   "id": "849aad6a",
   "metadata": {},
   "source": [
    "#### Задание 1.2"
   ]
  },
  {
   "cell_type": "markdown",
   "id": "e772bc9e",
   "metadata": {},
   "source": [
    "#### 1.2 Напишите функцию, которая на вход принимает два словаря и возвращает один объединенный словарь"
   ]
  },
  {
   "cell_type": "code",
   "execution_count": 7,
   "id": "5e295682",
   "metadata": {},
   "outputs": [
    {
     "data": {
      "text/plain": [
       "{'One': 1, 'Two': 2, 'Three': 3, 'Four': 4, 'Five': 5, 'Six': 6}"
      ]
     },
     "execution_count": 7,
     "metadata": {},
     "output_type": "execute_result"
    }
   ],
   "source": [
    "def merge_dicts(dict1: dict, dict2: dict) -> dict:\n",
    "    dict1.update(dict2)\n",
    "    return dict1\n",
    "\n",
    "merge_dicts(dict1, dict2)"
   ]
  },
  {
   "cell_type": "markdown",
   "id": "5da4951b",
   "metadata": {},
   "source": [
    "## Задание 2"
   ]
  },
  {
   "cell_type": "markdown",
   "id": "efbf51d3",
   "metadata": {},
   "source": [
    "#### Напишите функцию, которая из двух списков, делает один словарь, где элементы из первого списка - ключи, а элементы из второго списка - значения. Используйте аннотирование типов. 2.1 Используя цикл for 2.2 Используя dict comprehensions"
   ]
  },
  {
   "cell_type": "code",
   "execution_count": 9,
   "id": "d37bb7e2",
   "metadata": {},
   "outputs": [],
   "source": [
    "keys = ['One', 'Two', 'Three']\n",
    "values = [1, 2, 3]"
   ]
  },
  {
   "cell_type": "code",
   "execution_count": 16,
   "id": "14713b6d",
   "metadata": {},
   "outputs": [],
   "source": [
    "def merge_lists(list1: list, list2: list) -> list:\n",
    "    result = dict()\n",
    "    for i in range(len(list1)):\n",
    "        result[list1[i]] = list2[i]\n",
    "    return result"
   ]
  },
  {
   "cell_type": "code",
   "execution_count": 18,
   "id": "5b5e3f69",
   "metadata": {},
   "outputs": [
    {
     "data": {
      "text/plain": [
       "{'One': 1, 'Two': 2, 'Three': 3}"
      ]
     },
     "execution_count": 18,
     "metadata": {},
     "output_type": "execute_result"
    }
   ],
   "source": [
    "list_dict = merge_lists(keys, values)\n",
    "list_dict"
   ]
  },
  {
   "cell_type": "code",
   "execution_count": 21,
   "id": "9422c44e",
   "metadata": {},
   "outputs": [
    {
     "data": {
      "text/plain": [
       "{'One': 1, 'Two': 2, 'Three': 3}"
      ]
     },
     "execution_count": 21,
     "metadata": {},
     "output_type": "execute_result"
    }
   ],
   "source": [
    "def get_dict(keys:list, valus:list) -> dict:\n",
    "    return {keys[i]: valus[i] for i in range(len(values))}\n",
    "\n",
    "get_dict(keys, values)"
   ]
  },
  {
   "cell_type": "markdown",
   "id": "44665885",
   "metadata": {},
   "source": [
    "## Задание 3"
   ]
  },
  {
   "cell_type": "code",
   "execution_count": 23,
   "id": "d37cb255",
   "metadata": {},
   "outputs": [],
   "source": [
    "client_dict = {\n",
    "\t\"name\": \"John\",\n",
    "\t\"age\": 25,\n",
    "\t\"salary\": 5000,\n",
    "\t\"city\": \"Moscow\"\n",
    "}"
   ]
  },
  {
   "cell_type": "code",
   "execution_count": 30,
   "id": "7be88777",
   "metadata": {},
   "outputs": [
    {
     "data": {
      "text/plain": [
       "'John'"
      ]
     },
     "execution_count": 30,
     "metadata": {},
     "output_type": "execute_result"
    }
   ],
   "source": [
    "client_dict['name']"
   ]
  },
  {
   "cell_type": "code",
   "execution_count": 31,
   "id": "49e258a6",
   "metadata": {},
   "outputs": [
    {
     "data": {
      "text/plain": [
       "25"
      ]
     },
     "execution_count": 31,
     "metadata": {},
     "output_type": "execute_result"
    }
   ],
   "source": [
    "client_dict['age']"
   ]
  },
  {
   "cell_type": "markdown",
   "id": "55b0fd34",
   "metadata": {},
   "source": [
    "#### 3.1 Напишите функцию с циклом for\n",
    "Функция на вход принимает: исходный словарь, ключи, которые нужно извлечь (аргумент по умолчанию). На выходе словарь с нужными ключами. Используйте аннотирование типов"
   ]
  },
  {
   "cell_type": "code",
   "execution_count": 44,
   "id": "f9019fe7",
   "metadata": {},
   "outputs": [
    {
     "data": {
      "text/plain": [
       "{'name': 'John', 'age': 25}"
      ]
     },
     "execution_count": 44,
     "metadata": {},
     "output_type": "execute_result"
    }
   ],
   "source": [
    "def new_dict(old_dict: dict, keys: list = ['name', 'age'] ) -> dict:\n",
    "    result = dict()\n",
    "    for i in keys:\n",
    "        result[i] = old_dict[i]\n",
    "    return result\n",
    "\n",
    "new_dict(client_dict)"
   ]
  },
  {
   "cell_type": "markdown",
   "id": "c11b50fd",
   "metadata": {},
   "source": [
    "#### 3.2 Используя dict comprehensions"
   ]
  },
  {
   "cell_type": "code",
   "execution_count": 43,
   "id": "384ec966",
   "metadata": {},
   "outputs": [
    {
     "data": {
      "text/plain": [
       "{'name': 'John', 'age': 25}"
      ]
     },
     "execution_count": 43,
     "metadata": {},
     "output_type": "execute_result"
    }
   ],
   "source": [
    "keys = ['name', 'age']\n",
    "new = {i: client_dict[i] for i in keys}\n",
    "new"
   ]
  },
  {
   "cell_type": "markdown",
   "id": "3d9ae5d4",
   "metadata": {},
   "source": [
    "## Задание 4"
   ]
  },
  {
   "cell_type": "markdown",
   "id": "990cf4ce",
   "metadata": {},
   "source": [
    "#### 4.1 Сгенерируйте случайные целые числа от 0 до 100 в количестве 5 штук с помощью модуля random\n",
    "Зафиксируйте псевдогенерацию, чтобы сгенерированные значения всегда были одинаковые\n",
    "Используйте list comprehensions"
   ]
  },
  {
   "cell_type": "code",
   "execution_count": 58,
   "id": "acfc41f7",
   "metadata": {},
   "outputs": [],
   "source": [
    "import random as rnd"
   ]
  },
  {
   "cell_type": "code",
   "execution_count": 61,
   "id": "38686925",
   "metadata": {},
   "outputs": [
    {
     "data": {
      "text/plain": [
       "[54, 77, 43, 100, 5]"
      ]
     },
     "execution_count": 61,
     "metadata": {},
     "output_type": "execute_result"
    }
   ],
   "source": [
    "n = 5\n",
    "rnd_list5 = list()\n",
    "for i in range (0, n):\n",
    "    rnd_list5.append(rnd.randint(0,100))\n",
    "\n",
    "rnd_list5"
   ]
  },
  {
   "cell_type": "code",
   "execution_count": 62,
   "id": "4f496981",
   "metadata": {},
   "outputs": [
    {
     "data": {
      "text/plain": [
       "[95, 56, 17, 71, 94]"
      ]
     },
     "execution_count": 62,
     "metadata": {},
     "output_type": "execute_result"
    }
   ],
   "source": [
    "rnd_list5 = list()\n",
    "for i in range(0, n): rnd_list5.append(rnd.randint(0,100))\n",
    "    \n",
    "rnd_list5"
   ]
  },
  {
   "cell_type": "code",
   "execution_count": 66,
   "id": "a7699c52",
   "metadata": {},
   "outputs": [
    {
     "data": {
      "text/plain": [
       "[29, 47, 48, 16, 24]"
      ]
     },
     "execution_count": 66,
     "metadata": {},
     "output_type": "execute_result"
    }
   ],
   "source": [
    "rnd.seed(8)\n",
    "array = [rnd.randint(0,100) for i in range(5)]\n",
    "array"
   ]
  },
  {
   "cell_type": "markdown",
   "id": "20c26ca9",
   "metadata": {},
   "source": [
    "#### 4.2* Напишите генератор\n",
    "Генератор на вход принимает список с данными о клиенте (данные из пункта 4.1)\n",
    "\n",
    "Внутри генератора реализуйте обход по списку с данными\n",
    "\n",
    "На каждой итерации генератор будет возвращать кортеж из двух элементов:\n",
    "данные по клиенту (в зависимости от итерации, на 0 итерации вернется 0 элемент, на 1 итерации вернется 1 элемент и тд)\n",
    "целочисленное значение, которое показывает, сколько секунд прошло с предыдущей итерации\n",
    "\n",
    "Примечание: секунды, которые возвращаются должны показывать время не с начала запуска генератора, а именно то время, которое прошло с предыдущей итерации. А значит время на первой итерации должно равняться 0.\n",
    "\n",
    "Используйте функцию time из модуля time для подсчета времени.\n",
    "Чтобы проверить работу таймера, запустите проход по генератору в цикле с time.sleep(2)"
   ]
  },
  {
   "cell_type": "code",
   "execution_count": 69,
   "id": "308e6904",
   "metadata": {},
   "outputs": [],
   "source": [
    "import time\n",
    "\n",
    "client_dict = {\n",
    "\t\"name\": \"John\",\n",
    "\t\"age\": 25,\n",
    "\t\"salary\": 5000,\n",
    "\t\"city\": \"Moscow\"\n",
    "}"
   ]
  },
  {
   "cell_type": "code",
   "execution_count": null,
   "id": "d84321ce",
   "metadata": {},
   "outputs": [],
   "source": [
    "def generator_client (client: dict) - > tuple:\n",
    "    "
   ]
  },
  {
   "cell_type": "code",
   "execution_count": 76,
   "id": "e6aab30b",
   "metadata": {},
   "outputs": [],
   "source": [
    "def elapsed_since(data):\n",
    "    last_time = None\n",
    "    \n",
    "    for item in data:\n",
    "        current_time = time.time()\n",
    "        \n",
    "        if last_time:\n",
    "            delta = current_time - last_time\n",
    "        else:\n",
    "            delta = current_time - current_time\n",
    "        last_time= time.time()\n",
    "        yield(int(delta), item)"
   ]
  },
  {
   "cell_type": "code",
   "execution_count": 77,
   "id": "7819421e",
   "metadata": {},
   "outputs": [
    {
     "name": "stdout",
     "output_type": "stream",
     "text": [
      "(0, 'name')\n",
      "(2, 'age')\n",
      "(2, 'salary')\n",
      "(2, 'city')\n"
     ]
    }
   ],
   "source": [
    "for t in elapsed_since(client_dict):\n",
    "    print(t)\n",
    "    time.sleep(2)"
   ]
  },
  {
   "cell_type": "markdown",
   "id": "8ecdea6d",
   "metadata": {},
   "source": [
    "## Задание 6"
   ]
  },
  {
   "cell_type": "markdown",
   "id": "211cd145",
   "metadata": {},
   "source": [
    "Напишите функцию, которая может принимать любое количество трат пользователя и считать сумму и среднее.\n",
    "На вход поступают целочисленные значения в любом количестве\n",
    "На выходе словарь с ключами суммы трат и средней траты"
   ]
  },
  {
   "cell_type": "code",
   "execution_count": 83,
   "id": "98c5cf69",
   "metadata": {},
   "outputs": [
    {
     "data": {
      "text/plain": [
       "(11, 5.5)"
      ]
     },
     "execution_count": 83,
     "metadata": {},
     "output_type": "execute_result"
    }
   ],
   "source": [
    "import numpy as np\n",
    "\n",
    "def costs(*args):\n",
    "    sum_costs = sum(args)\n",
    "    avg_costs = np.mean(args)\n",
    "    return sum_costs, avg_costs\n",
    "    \n",
    "a = 5\n",
    "b = 6\n",
    "\n",
    "costs(a,b)"
   ]
  },
  {
   "cell_type": "code",
   "execution_count": null,
   "id": "ce39a2a2",
   "metadata": {},
   "outputs": [],
   "source": []
  },
  {
   "cell_type": "code",
   "execution_count": null,
   "id": "ade6c025",
   "metadata": {},
   "outputs": [],
   "source": []
  }
 ],
 "metadata": {
  "kernelspec": {
   "display_name": "Python 3 (ipykernel)",
   "language": "python",
   "name": "python3"
  },
  "language_info": {
   "codemirror_mode": {
    "name": "ipython",
    "version": 3
   },
   "file_extension": ".py",
   "mimetype": "text/x-python",
   "name": "python",
   "nbconvert_exporter": "python",
   "pygments_lexer": "ipython3",
   "version": "3.11.2"
  }
 },
 "nbformat": 4,
 "nbformat_minor": 5
}
